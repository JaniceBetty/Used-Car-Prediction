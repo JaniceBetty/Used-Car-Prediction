{
 "cells": [
  {
   "cell_type": "code",
   "execution_count": 73,
   "id": "8eb224dc",
   "metadata": {},
   "outputs": [],
   "source": [
    "import pandas as pd\n",
    "import joblib\n",
    "import os"
   ]
  },
  {
   "cell_type": "code",
   "execution_count": 74,
   "id": "52321024",
   "metadata": {},
   "outputs": [
    {
     "name": "stdout",
     "output_type": "stream",
     "text": [
      "🚗 Predicted Used Car Prices:\n",
      "\n",
      "LinearRegression predicted price: ₹-60,844.15\n",
      "DecisionTreeRegressor predicted price: ₹300,000.00\n",
      "RandomForestRegressor predicted price: ₹226,905.00\n",
      "Ridge predicted price: ₹-60,728.21\n",
      "Lasso predicted price: ₹-60,838.91\n",
      "\n",
      "✅ Valid model predictions used:\n",
      "  - DecisionTreeRegressor: ₹300,000.00\n",
      "  - RandomForestRegressor: ₹226,905.00\n",
      "\n",
      "💡 Optimal Predicted Price (mean of valid models): ₹263,452.50\n"
     ]
    }
   ],
   "source": [
    "import pandas as pd\n",
    "import joblib\n",
    "import os\n",
    "\n",
    "# Sample Input\n",
    "sample_input = pd.DataFrame([{\n",
    "    'vehicle_age': 13,\n",
    "    'km_driven': 38000,\n",
    "    'mileage': 20.36,\n",
    "    'engine': 1197,\n",
    "    'max_power': 78.9,\n",
    "    'seats': 5,\n",
    "    'seller_type_Dealer': 0,\n",
    "    'seller_type_Individual': 1,\n",
    "    'seller_type_Trustmark Dealer': 0,\n",
    "    'fuel_type_CNG': 0,\n",
    "    'fuel_type_Diesel': 0,\n",
    "    'fuel_type_Electric': 0,\n",
    "    'fuel_type_LPG': 0,\n",
    "    'fuel_type_Petrol': 1,\n",
    "    'transmission_type_Automatic': 0,\n",
    "    'transmission_type_Manual': 1\n",
    "}])\n",
    "\n",
    "# Model names\n",
    "model_names = [\n",
    "    'LinearRegression',\n",
    "    'DecisionTreeRegressor',\n",
    "    'RandomForestRegressor',\n",
    "    'Ridge',\n",
    "    'Lasso'\n",
    "]\n",
    "\n",
    "# Prediction results\n",
    "valid_predictions = []\n",
    "print(\"🚗 Predicted Used Car Prices:\\n\")\n",
    "\n",
    "for name in model_names:\n",
    "    model_path = f\"saved_models/{name}_model.pkl\"\n",
    "    if os.path.exists(model_path):\n",
    "        model = joblib.load(model_path)\n",
    "        pred_price = model.predict(sample_input)[0]\n",
    "        if pred_price > 0:\n",
    "            valid_predictions.append((name, pred_price))\n",
    "        print(f\"{name} predicted price: ₹{pred_price:,.2f}\")\n",
    "    else:\n",
    "        print(f\"❌ Model {name} not found.\")\n",
    "\n",
    "# Compute optimal price\n",
    "if valid_predictions:\n",
    "    optimal_price = sum(p for _, p in valid_predictions) / len(valid_predictions)\n",
    "    print(\"\\n✅ Valid model predictions used:\")\n",
    "    for name, price in valid_predictions:\n",
    "        print(f\"  - {name}: ₹{price:,.2f}\")\n",
    "    print(f\"\\n💡 Optimal Predicted Price (mean of valid models): ₹{optimal_price:,.2f}\")\n",
    "else:\n",
    "    print(\"\\n❌ No valid predictions to compute optimal price.\")"
   ]
  }
 ],
 "metadata": {
  "kernelspec": {
   "display_name": "ucp",
   "language": "python",
   "name": "python3"
  },
  "language_info": {
   "codemirror_mode": {
    "name": "ipython",
    "version": 3
   },
   "file_extension": ".py",
   "mimetype": "text/x-python",
   "name": "python",
   "nbconvert_exporter": "python",
   "pygments_lexer": "ipython3",
   "version": "3.12.11"
  }
 },
 "nbformat": 4,
 "nbformat_minor": 5
}
